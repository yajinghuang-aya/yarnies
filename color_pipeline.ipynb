{
 "cells": [
  {
   "cell_type": "code",
   "execution_count": 101,
   "metadata": {},
   "outputs": [],
   "source": [
    "import cv2\n",
    "from yellowbrick.cluster import KElbowVisualizer\n",
    "import pandas as pd \n",
    "import numpy as np\n",
    "from color_util import *\n",
    "from PIL import Image\n",
    "from sklearn.cluster import KMeans\n",
    "from IPython.display import display\n",
    "import matplotlib.pyplot as plt\n",
    "import time\n",
    "from color_cluster import *\n",
    "from os import path\n",
    "\n",
    "data=pd.read_csv(\"pat_time_count_nyc_sample.csv\",header=0,sep=\"^\")"
   ]
  },
  {
   "cell_type": "code",
   "execution_count": 31,
   "metadata": {},
   "outputs": [
    {
     "name": "stderr",
     "output_type": "stream",
     "text": [
      "/Library/Frameworks/Python.framework/Versions/3.7/lib/python3.7/site-packages/ipykernel_launcher.py:4: UserWarning: Boolean Series key will be reindexed to match DataFrame index.\n",
      "  after removing the cwd from sys.path.\n"
     ]
    }
   ],
   "source": [
    "start=pd.to_datetime('2020/4')\n",
    "end=pd.to_datetime('2020/6')\n",
    "x=data[pd.to_datetime(data.time)>start].copy()\n",
    "x=x[pd.to_datetime(data.time)<end]"
   ]
  },
  {
   "cell_type": "code",
   "execution_count": 7,
   "metadata": {},
   "outputs": [
    {
     "data": {
      "text/plain": [
       "1841"
      ]
     },
     "execution_count": 7,
     "metadata": {},
     "output_type": "execute_result"
    }
   ],
   "source": [
    "len(data.pattern_id.unique())"
   ]
  },
  {
   "cell_type": "code",
   "execution_count": 17,
   "metadata": {},
   "outputs": [],
   "source": [
    "patterns=(x.pattern_id.unique())"
   ]
  },
  {
   "cell_type": "code",
   "execution_count": 40,
   "metadata": {},
   "outputs": [],
   "source": [
    "def df_image_exist(x,folder=None):\n",
    "    patterns=(x.pattern_id.unique())\n",
    "    rm_list=[]\n",
    "    for p in patterns:\n",
    "        filepath=folder+str(p)+'.jpg'\n",
    "        if not path.exists(filepath):\n",
    "            rm_list.append(p)\n",
    "    x=x[~x['pattern_id'].isin(rm_list)]\n",
    "    return x"
   ]
  },
  {
   "cell_type": "code",
   "execution_count": 41,
   "metadata": {},
   "outputs": [],
   "source": [
    "filepath=\"/Users/yajinghuang/Desktop/insight/project_ideas/marcc/colors/crop_image/\"\n",
    "x=df_image_exist(x,folder=filepath)"
   ]
  },
  {
   "cell_type": "code",
   "execution_count": null,
   "metadata": {},
   "outputs": [],
   "source": []
  },
  {
   "cell_type": "code",
   "execution_count": 46,
   "metadata": {},
   "outputs": [
    {
     "data": {
      "text/plain": [
       "1200"
      ]
     },
     "execution_count": 46,
     "metadata": {},
     "output_type": "execute_result"
    }
   ],
   "source": [
    "len(x[x.time=='2020/05'].pattern_id.unique())"
   ]
  },
  {
   "cell_type": "code",
   "execution_count": 112,
   "metadata": {},
   "outputs": [],
   "source": [
    "\n",
    "def color_pattern_clustering(pattern_id,folder=\"crop_image/\",outfolder=\"cluster_dict/\"):\n",
    "    filepath=folder+str(pattern_id)+'.jpg'\n",
    "    outfile=outfolder+str(pattern_id)+'.txt'\n",
    "    if path.exists(filepath) and (not path.exists(outfile)):\n",
    "        image=cv2.imread(filepath)\n",
    "        image=prepare_image(image)\n",
    "        color=kmeans_op(image)\n",
    "        np.savetxt(outfile,color)\n",
    "        print(pattern_id,\"write to dict\")\n",
    "    else:\n",
    "        print('image not exists, or txt already exists')\n",
    "    return None\n",
    "        \n",
    "def get_color_data_from_clusters(df,month):\n",
    "    output={}\n",
    "    df = df[df.time==month]\n",
    "    weights=[]\n",
    "    colors = np.empty((0,4), int)\n",
    "    color_dict={}\n",
    "    for index, row in df.iterrows():\n",
    "        pattern_id=row['pattern_id']\n",
    "        if pattern_id not in color_dict.keys():\n",
    "            fname='cluster_dict/'+str(pattern_id)+'.txt'\n",
    "            color_dict[pattern_id]=np.loadtxt(fname)\n",
    "            \n",
    "        color =color_dict[pattern_id]\n",
    "        color[:,4]=color[:,4]*row.count\n",
    "        colors = np.append(colors, color, axis=0)\n",
    "    output[month:colors]\n",
    "    \n",
    "    return output\n",
    "\n",
    "def color_vs_month(df):\n",
    "    color_dict_months={}\n",
    "    months=df.time.unique()\n",
    "    for m in months:\n",
    "        color_dict_months.update(get_color_data_from_clusters(df,m))\n",
    "    return color_dict_months\n",
    "\n",
    "def df_pattern_to_color(df):\n",
    "    ids=df.pattern_id.unique()\n",
    "    for i in ids:\n",
    "        color_pattern_clustering(i)\n",
    "    print('df pattern to color done')\n",
    "    \n",
    "\n",
    "def get_df_sample(df,frac=0.1):\n",
    "    months=df.time.unique()\n",
    "    df_out=df[df.time==months[0]].sample(frac=frac)\n",
    "    for m in months[1:]:\n",
    "        d=df[df.time==m].sample(frac = frac)\n",
    "        if not d.empty:\n",
    "            df_out=df_out.append(d,ignore_index=True)\n",
    "    return df_out\n",
    "\n",
    "\n"
   ]
  },
  {
   "cell_type": "code",
   "execution_count": 113,
   "metadata": {},
   "outputs": [],
   "source": [
    "#pipeline\n",
    "data=pd.read_csv(\"pat_time_count_nyc_sample.csv\",header=0,sep=\"^\")\n",
    "sample=get_df_sample(data,frac=0.05)\n",
    "df_pattern_to_color(sample)\n",
    "color_dict_months=color_vs_month(sample)"
   ]
  },
  {
   "cell_type": "code",
   "execution_count": 115,
   "metadata": {},
   "outputs": [],
   "source": [
    "sample=get_df_sample(data,frac=0.05)"
   ]
  },
  {
   "cell_type": "code",
   "execution_count": null,
   "metadata": {},
   "outputs": [],
   "source": [
    "\n"
   ]
  },
  {
   "cell_type": "code",
   "execution_count": 83,
   "metadata": {},
   "outputs": [],
   "source": [
    "colors = np.append(colors, x, axis=0)"
   ]
  },
  {
   "cell_type": "code",
   "execution_count": 85,
   "metadata": {},
   "outputs": [
    {
     "data": {
      "text/plain": [
       "(8, 4)"
      ]
     },
     "execution_count": 85,
     "metadata": {},
     "output_type": "execute_result"
    }
   ],
   "source": [
    "colors.shape"
   ]
  },
  {
   "cell_type": "code",
   "execution_count": 117,
   "metadata": {},
   "outputs": [],
   "source": [
    "x={'a':3,'b':4}\n",
    "x.update({})"
   ]
  }
 ],
 "metadata": {
  "kernelspec": {
   "display_name": "Python 3",
   "language": "python",
   "name": "python3"
  },
  "language_info": {
   "codemirror_mode": {
    "name": "ipython",
    "version": 3
   },
   "file_extension": ".py",
   "mimetype": "text/x-python",
   "name": "python",
   "nbconvert_exporter": "python",
   "pygments_lexer": "ipython3",
   "version": "3.7.3"
  }
 },
 "nbformat": 4,
 "nbformat_minor": 2
}
