{
 "cells": [
  {
   "cell_type": "code",
   "execution_count": 327,
   "metadata": {},
   "outputs": [],
   "source": [
    "import cv2\n",
    "import wget\n",
    "from color_util import *\n",
    "from color_cluster import* \n",
    "from color_pop_util import *\n",
    "from skimage.color import deltaE_cie76,lab2rgb\n",
    "from skimage import io\n",
    "import numpy as np\n",
    "import pandas as pd\n",
    "import time"
   ]
  },
  {
   "cell_type": "code",
   "execution_count": 300,
   "metadata": {},
   "outputs": [],
   "source": [
    "hsl_cat=np.zeros((6,5,5))"
   ]
  },
  {
   "cell_type": "code",
   "execution_count": 301,
   "metadata": {},
   "outputs": [],
   "source": [
    "hue=[[330,30],[30,90],[90,150],[150,210],[210,270],[270,330]]\n",
    "satuation=[[0,20],[20,40],[40,60],[60,80],[80,100]]\n",
    "lightness=[[0,20],[20,40],[40,60],[60,80],[80,100]]\n",
    "\n",
    "hue_value=[0,60,120,180,240,300]\n",
    "satuation_value=[10,30,50,70,90]\n",
    "lightness_value=[10,30,50,70,90]"
   ]
  },
  {
   "cell_type": "code",
   "execution_count": 133,
   "metadata": {},
   "outputs": [],
   "source": [
    "image=cv2.imread(\"../marcc/scraping_image_project/crop_image/21395700.jpg\")"
   ]
  },
  {
   "cell_type": "code",
   "execution_count": 328,
   "metadata": {},
   "outputs": [],
   "source": [
    "\n",
    "from colour import hsl2rgb\n",
    "from colour import Color"
   ]
  },
  {
   "cell_type": "code",
   "execution_count": 329,
   "metadata": {},
   "outputs": [],
   "source": [
    "def rgb2hsl(pix):\n",
    "    pix=np.asarray(pix)/255.\n",
    "    pixcolor=Color(rgb=pix)\n",
    "    hsl=pixcolor.hsl\n",
    "    color_hsl=np.zeros(3)\n",
    "    color_hsl[0]=hsl[0]*360\n",
    "    color_hsl[1]=hsl[1]*100\n",
    "    color_hsl[2]=hsl[2]*100\n",
    "    return color_hsl"
   ]
  },
  {
   "cell_type": "code",
   "execution_count": 134,
   "metadata": {},
   "outputs": [],
   "source": [
    "# after prepare image\n",
    "image=prepare_image(image).astype('uint8')\n",
    "\n",
    "hsl_cat=np.zeros((6,5,5))\n",
    "\n",
    "for i in range(image.shape[0]):\n",
    "    pix_hsl=rgb2hsl(image[i])\n",
    "    for i in range(1,6):\n",
    "        if pix_hsl[0]>=hue[i][0] and pix_hsl[0]<hue[i][1]:\n",
    "            pix_h=i\n",
    "    if pix_hsl[0]>=330 or pix_hsl[1]<30:\n",
    "            pix_h=0\n",
    "    for i in range(5):\n",
    "        if pix_hsl[1]>=satuation[i][0] and pix_hsl[1]<satuation[i][1]:\n",
    "            pix_s=i\n",
    "        if pix_hsl[2]>=lightness[i][0] and pix_hsl[2]<lightness[i][1]:\n",
    "            pix_l=i\n",
    "    hsl_cat[pix_h,pix_s,pix_l]+=1\n",
    "\n"
   ]
  },
  {
   "cell_type": "code",
   "execution_count": 143,
   "metadata": {},
   "outputs": [
    {
     "data": {
      "text/plain": [
       "array([80, 70, 61], dtype=uint8)"
      ]
     },
     "execution_count": 143,
     "metadata": {},
     "output_type": "execute_result"
    }
   ],
   "source": [
    "image[12284//2]"
   ]
  },
  {
   "cell_type": "code",
   "execution_count": 139,
   "metadata": {},
   "outputs": [
    {
     "data": {
      "text/plain": [
       "(array([0]), array([0]), array([2]))"
      ]
     },
     "execution_count": 139,
     "metadata": {},
     "output_type": "execute_result"
    }
   ],
   "source": [
    "np.where(hsl_cat==1.0730e+03)"
   ]
  },
  {
   "cell_type": "code",
   "execution_count": 67,
   "metadata": {},
   "outputs": [],
   "source": [
    "order=np.argsort(hsl_cat.reshape(150))[::-1]\n",
    "rank_index=[]\n",
    "for o in order:\n",
    "    i1=o//25\n",
    "    i2=(o%25)//5\n",
    "    i3=(o%25)%5\n",
    "    rank_index.append([i1,i2,i3])"
   ]
  },
  {
   "cell_type": "code",
   "execution_count": 71,
   "metadata": {},
   "outputs": [
    {
     "data": {
      "text/plain": [
       "0.0"
      ]
     },
     "execution_count": 71,
     "metadata": {},
     "output_type": "execute_result"
    }
   ],
   "source": [
    "hsl_cat[3, 2, 2]"
   ]
  },
  {
   "cell_type": "code",
   "execution_count": 74,
   "metadata": {},
   "outputs": [
    {
     "data": {
      "text/plain": [
       "array([[121,  65, 125],\n",
       "       [160, 102, 165],\n",
       "       [136,  76, 141],\n",
       "       ...,\n",
       "       [144, 136, 137],\n",
       "       [182, 173, 171],\n",
       "       [179, 172, 169]], dtype=uint8)"
      ]
     },
     "execution_count": 74,
     "metadata": {},
     "output_type": "execute_result"
    }
   ],
   "source": [
    "#rank_index\n",
    "image"
   ]
  },
  {
   "cell_type": "code",
   "execution_count": 76,
   "metadata": {},
   "outputs": [
    {
     "data": {
      "text/plain": [
       "<Color #b174b6>"
      ]
     },
     "execution_count": 76,
     "metadata": {},
     "output_type": "execute_result"
    }
   ],
   "source": [
    "Color(rgb=image[3]/255)"
   ]
  },
  {
   "cell_type": "code",
   "execution_count": 77,
   "metadata": {},
   "outputs": [
    {
     "data": {
      "text/plain": [
       "array([177, 116, 182], dtype=uint8)"
      ]
     },
     "execution_count": 77,
     "metadata": {},
     "output_type": "execute_result"
    }
   ],
   "source": [
    "image[3]"
   ]
  },
  {
   "cell_type": "code",
   "execution_count": 81,
   "metadata": {},
   "outputs": [],
   "source": [
    "hsl2rgb?\n"
   ]
  },
  {
   "cell_type": "code",
   "execution_count": 345,
   "metadata": {},
   "outputs": [],
   "source": [
    "color_hsl_df=pd.read_csv(\"../marccc/scraping_image_project/image_pop_color_hsl/pop_color_0.csv\")\n",
    "color_hsl_df.drop(columns=\"Unnamed: 0\",inplace=True)"
   ]
  },
  {
   "cell_type": "code",
   "execution_count": 346,
   "metadata": {},
   "outputs": [
    {
     "data": {
      "text/html": [
       "<div>\n",
       "<style scoped>\n",
       "    .dataframe tbody tr th:only-of-type {\n",
       "        vertical-align: middle;\n",
       "    }\n",
       "\n",
       "    .dataframe tbody tr th {\n",
       "        vertical-align: top;\n",
       "    }\n",
       "\n",
       "    .dataframe thead th {\n",
       "        text-align: right;\n",
       "    }\n",
       "</style>\n",
       "<table border=\"1\" class=\"dataframe\">\n",
       "  <thead>\n",
       "    <tr style=\"text-align: right;\">\n",
       "      <th></th>\n",
       "      <th>project_id</th>\n",
       "      <th>time</th>\n",
       "      <th>0</th>\n",
       "      <th>1</th>\n",
       "      <th>2</th>\n",
       "      <th>3</th>\n",
       "      <th>4</th>\n",
       "      <th>5</th>\n",
       "      <th>6</th>\n",
       "      <th>7</th>\n",
       "      <th>...</th>\n",
       "      <th>140</th>\n",
       "      <th>141</th>\n",
       "      <th>142</th>\n",
       "      <th>143</th>\n",
       "      <th>144</th>\n",
       "      <th>145</th>\n",
       "      <th>146</th>\n",
       "      <th>147</th>\n",
       "      <th>148</th>\n",
       "      <th>149</th>\n",
       "    </tr>\n",
       "  </thead>\n",
       "  <tbody>\n",
       "    <tr>\n",
       "      <th>0</th>\n",
       "      <td>21352836</td>\n",
       "      <td>2018/03/12</td>\n",
       "      <td>466.0</td>\n",
       "      <td>2237.0</td>\n",
       "      <td>659.0</td>\n",
       "      <td>118.0</td>\n",
       "      <td>9.0</td>\n",
       "      <td>12.0</td>\n",
       "      <td>1.0</td>\n",
       "      <td>0.0</td>\n",
       "      <td>...</td>\n",
       "      <td>0.0</td>\n",
       "      <td>0.0</td>\n",
       "      <td>0.0</td>\n",
       "      <td>0.0</td>\n",
       "      <td>0.0</td>\n",
       "      <td>0.0</td>\n",
       "      <td>0.0</td>\n",
       "      <td>0.0</td>\n",
       "      <td>0.0</td>\n",
       "      <td>0.0</td>\n",
       "    </tr>\n",
       "    <tr>\n",
       "      <th>1</th>\n",
       "      <td>3990231</td>\n",
       "      <td>2010/05/12</td>\n",
       "      <td>0.0</td>\n",
       "      <td>39.0</td>\n",
       "      <td>2599.0</td>\n",
       "      <td>3614.0</td>\n",
       "      <td>0.0</td>\n",
       "      <td>55.0</td>\n",
       "      <td>114.0</td>\n",
       "      <td>21.0</td>\n",
       "      <td>...</td>\n",
       "      <td>0.0</td>\n",
       "      <td>0.0</td>\n",
       "      <td>0.0</td>\n",
       "      <td>0.0</td>\n",
       "      <td>0.0</td>\n",
       "      <td>0.0</td>\n",
       "      <td>0.0</td>\n",
       "      <td>0.0</td>\n",
       "      <td>0.0</td>\n",
       "      <td>0.0</td>\n",
       "    </tr>\n",
       "    <tr>\n",
       "      <th>2</th>\n",
       "      <td>8802471</td>\n",
       "      <td>2012/08/22</td>\n",
       "      <td>0.0</td>\n",
       "      <td>73.0</td>\n",
       "      <td>247.0</td>\n",
       "      <td>28.0</td>\n",
       "      <td>0.0</td>\n",
       "      <td>17.0</td>\n",
       "      <td>1513.0</td>\n",
       "      <td>7261.0</td>\n",
       "      <td>...</td>\n",
       "      <td>0.0</td>\n",
       "      <td>0.0</td>\n",
       "      <td>0.0</td>\n",
       "      <td>0.0</td>\n",
       "      <td>0.0</td>\n",
       "      <td>0.0</td>\n",
       "      <td>0.0</td>\n",
       "      <td>0.0</td>\n",
       "      <td>0.0</td>\n",
       "      <td>0.0</td>\n",
       "    </tr>\n",
       "    <tr>\n",
       "      <th>3</th>\n",
       "      <td>21395700</td>\n",
       "      <td>2018/03/19</td>\n",
       "      <td>277.0</td>\n",
       "      <td>1650.0</td>\n",
       "      <td>2.0</td>\n",
       "      <td>0.0</td>\n",
       "      <td>0.0</td>\n",
       "      <td>0.0</td>\n",
       "      <td>0.0</td>\n",
       "      <td>0.0</td>\n",
       "      <td>...</td>\n",
       "      <td>0.0</td>\n",
       "      <td>0.0</td>\n",
       "      <td>0.0</td>\n",
       "      <td>0.0</td>\n",
       "      <td>0.0</td>\n",
       "      <td>0.0</td>\n",
       "      <td>0.0</td>\n",
       "      <td>0.0</td>\n",
       "      <td>0.0</td>\n",
       "      <td>0.0</td>\n",
       "    </tr>\n",
       "    <tr>\n",
       "      <th>4</th>\n",
       "      <td>4293173</td>\n",
       "      <td>2010/07/25</td>\n",
       "      <td>0.0</td>\n",
       "      <td>4.0</td>\n",
       "      <td>54.0</td>\n",
       "      <td>20.0</td>\n",
       "      <td>1.0</td>\n",
       "      <td>0.0</td>\n",
       "      <td>2.0</td>\n",
       "      <td>9.0</td>\n",
       "      <td>...</td>\n",
       "      <td>0.0</td>\n",
       "      <td>0.0</td>\n",
       "      <td>0.0</td>\n",
       "      <td>0.0</td>\n",
       "      <td>0.0</td>\n",
       "      <td>0.0</td>\n",
       "      <td>0.0</td>\n",
       "      <td>0.0</td>\n",
       "      <td>0.0</td>\n",
       "      <td>0.0</td>\n",
       "    </tr>\n",
       "  </tbody>\n",
       "</table>\n",
       "<p>5 rows × 152 columns</p>\n",
       "</div>"
      ],
      "text/plain": [
       "   project_id        time      0       1       2       3    4     5       6  \\\n",
       "0    21352836  2018/03/12  466.0  2237.0   659.0   118.0  9.0  12.0     1.0   \n",
       "1     3990231  2010/05/12    0.0    39.0  2599.0  3614.0  0.0  55.0   114.0   \n",
       "2     8802471  2012/08/22    0.0    73.0   247.0    28.0  0.0  17.0  1513.0   \n",
       "3    21395700  2018/03/19  277.0  1650.0     2.0     0.0  0.0   0.0     0.0   \n",
       "4     4293173  2010/07/25    0.0     4.0    54.0    20.0  1.0   0.0     2.0   \n",
       "\n",
       "        7  ...  140  141  142  143  144  145  146  147  148  149  \n",
       "0     0.0  ...  0.0  0.0  0.0  0.0  0.0  0.0  0.0  0.0  0.0  0.0  \n",
       "1    21.0  ...  0.0  0.0  0.0  0.0  0.0  0.0  0.0  0.0  0.0  0.0  \n",
       "2  7261.0  ...  0.0  0.0  0.0  0.0  0.0  0.0  0.0  0.0  0.0  0.0  \n",
       "3     0.0  ...  0.0  0.0  0.0  0.0  0.0  0.0  0.0  0.0  0.0  0.0  \n",
       "4     9.0  ...  0.0  0.0  0.0  0.0  0.0  0.0  0.0  0.0  0.0  0.0  \n",
       "\n",
       "[5 rows x 152 columns]"
      ]
     },
     "execution_count": 346,
     "metadata": {},
     "output_type": "execute_result"
    }
   ],
   "source": [
    "color_hsl_df"
   ]
  },
  {
   "cell_type": "code",
   "execution_count": 375,
   "metadata": {},
   "outputs": [],
   "source": [
    "#color_count=(color_hsl_df.drop(columns=['project_id','time'])).iloc[2]\n",
    "#color_count=np.asarray(frequency)\n",
    "color_count=np.arange(150)\n",
    "for i in range(150):\n",
    "    color_count[i]=frequency[i]"
   ]
  },
  {
   "cell_type": "code",
   "execution_count": 376,
   "metadata": {},
   "outputs": [],
   "source": [
    "color_order=np.argsort(color_count)[::-1]\n",
    "color_rank_rgb=[]\n",
    "for i in color_order:\n",
    "    i1,i2,i3=oneD_to_3D_index(i)\n",
    "    color_hsl=np.asarray([hue_value[i1]/360.,satuation_value[i2]/100.,lightness_value[i3]/100.])\n",
    "    color_rgb=np.asarray(hsl2rgb(color_hsl))\n",
    "    #print(color_rgb*255)\n",
    "    #blue=color_rgb[0]\n",
    "    #color_rgb[0]=color_rgb[2]\n",
    "    #color_rgb[2]=blue\n",
    "    color_rank_rgb.append(color_rgb)\n",
    "    "
   ]
  },
  {
   "cell_type": "code",
   "execution_count": 380,
   "metadata": {},
   "outputs": [
    {
     "name": "stderr",
     "output_type": "stream",
     "text": [
      "/Library/Frameworks/Python.framework/Versions/3.7/lib/python3.7/site-packages/matplotlib/cbook/__init__.py:424: MatplotlibDeprecationWarning: \n",
      "Passing one of 'on', 'true', 'off', 'false' as a boolean is deprecated; use an actual boolean (True/False) instead.\n",
      "  warn_deprecated(\"2.2\", \"Passing one of 'on', 'true', 'off', 'false' as a \"\n"
     ]
    },
    {
     "data": {
      "image/png": "[encoded data removed]",
      "text/plain": [
       "<Figure size 432x288 with 1 Axes>"
      ]
     },
     "metadata": {
      "needs_background": "light"
     },
     "output_type": "display_data"
    }
   ],
   "source": [
    "for i in range(10):\n",
    "    plt.bar([i+1],[color_count[color_order[i]]],color=color_rank_rgb[i])\n",
    "plt.xlabel(\"popularity ranking\",fontsize=15)\n",
    "plt.ylabel(\"number of pixels\",fontsize=15)\n",
    "plt.grid(\"false\")"
   ]
  },
  {
   "cell_type": "code",
   "execution_count": 280,
   "metadata": {},
   "outputs": [],
   "source": [
    "#plt.bar([i],[color_count[color_order[i]]],color=np.array([165.75 , 89.25 , 89.25])/255.)"
   ]
  },
  {
   "cell_type": "code",
   "execution_count": 282,
   "metadata": {},
   "outputs": [
    {
     "data": {
      "text/plain": [
       "<BarContainer object of 1 artists>"
      ]
     },
     "execution_count": 282,
     "metadata": {},
     "output_type": "execute_result"
    },
    {
     "data": {
      "image/png": "[encoded data removed]",
      "text/plain": [
       "<Figure size 432x288 with 1 Axes>"
      ]
     },
     "metadata": {
      "needs_background": "light"
     },
     "output_type": "display_data"
    }
   ],
   "source": [
    "plt.bar([1],[2],color=np.array([89.25 , 89.25, 165.75])/255.)"
   ]
  },
  {
   "cell_type": "code",
   "execution_count": 215,
   "metadata": {},
   "outputs": [
    {
     "data": {
      "text/plain": [
       "(0.75, 0.25, 0.25)"
      ]
     },
     "execution_count": 215,
     "metadata": {},
     "output_type": "execute_result"
    }
   ],
   "source": [
    "hsl2rgb((0,0.5,0.5))"
   ]
  },
  {
   "cell_type": "code",
   "execution_count": 216,
   "metadata": {},
   "outputs": [
    {
     "data": {
      "text/plain": [
       "array([  0.        , 100.        ,  69.60784314])"
      ]
     },
     "execution_count": 216,
     "metadata": {},
     "output_type": "execute_result"
    }
   ],
   "source": [
    "rgb2hsl((255,100,100))"
   ]
  },
  {
   "cell_type": "code",
   "execution_count": 370,
   "metadata": {},
   "outputs": [],
   "source": [
    "x=cv2.imread(\"/Users/yajinghuang/Desktop/ripple.png\")\n",
    "#x=prepare_image(x)\n",
    "#"
   ]
  },
  {
   "cell_type": "code",
   "execution_count": 242,
   "metadata": {},
   "outputs": [
    {
     "data": {
      "text/plain": [
       "array([136,  75,  74], dtype=uint8)"
      ]
     },
     "execution_count": 242,
     "metadata": {},
     "output_type": "execute_result"
    }
   ],
   "source": [
    "prepare_image(flip_rgb(x))[x.shape[0]//2]"
   ]
  },
  {
   "cell_type": "code",
   "execution_count": 371,
   "metadata": {},
   "outputs": [
    {
     "data": {
      "text/plain": [
       "<matplotlib.image.AxesImage at 0x1275f4b38>"
      ]
     },
     "execution_count": 371,
     "metadata": {},
     "output_type": "execute_result"
    },
    {
     "data": {
      "image/png": "[encoded data removed]",
      "text/plain": [
       "<Figure size 432x288 with 1 Axes>"
      ]
     },
     "metadata": {
      "needs_background": "light"
     },
     "output_type": "display_data"
    }
   ],
   "source": [
    "plt.imshow(flip_rgb(x))"
   ]
  },
  {
   "cell_type": "code",
   "execution_count": 372,
   "metadata": {},
   "outputs": [
    {
     "name": "stdout",
     "output_type": "stream",
     "text": [
      "time 0.6367249488830566\n"
     ]
    },
    {
     "data": {
      "text/plain": [
       "{2: 21,\n",
       " 11: 71,\n",
       " 16: 489,\n",
       " 29: 203,\n",
       " 35: 7,\n",
       " 48: 4,\n",
       " 52: 16,\n",
       " 79: 21,\n",
       " 93: 3,\n",
       " 97: 2,\n",
       " 104: 3,\n",
       " 146: 1,\n",
       " 157: 727,\n",
       " 172: 1,\n",
       " 184: 1,\n",
       " 186: 8,\n",
       " 225: 398,\n",
       " 234: 1,\n",
       " 273: 27,\n",
       " 280: 6,\n",
       " 286: 86,\n",
       " 302: 2058,\n",
       " 373: 1,\n",
       " 378: 118,\n",
       " 387: 4,\n",
       " 389: 793,\n",
       " 397: 41,\n",
       " 401: 1,\n",
       " 414: 137,\n",
       " 436: 2,\n",
       " 437: 18,\n",
       " 441: 22,\n",
       " 455: 525,\n",
       " 465: 3478,\n",
       " 491: 31,\n",
       " 521: 4,\n",
       " 525: 141,\n",
       " 527: 2,\n",
       " 533: 16,\n",
       " 537: 3,\n",
       " 541: 140,\n",
       " 550: 3,\n",
       " 556: 1,\n",
       " 559: 571,\n",
       " 581: 8,\n",
       " 591: 7,\n",
       " 601: 1,\n",
       " 624: 6,\n",
       " 633: 8,\n",
       " 669: 1,\n",
       " 700: 18,\n",
       " 704: 6,\n",
       " 711: 29,\n",
       " 719: 12,\n",
       " 721: 102,\n",
       " 732: 47,\n",
       " 735: 1,\n",
       " 801: 5,\n",
       " 838: 1530,\n",
       " 853: 558,\n",
       " 864: 2,\n",
       " 875: 118,\n",
       " 901: 358,\n",
       " 911: 3,\n",
       " 917: 23,\n",
       " 923: 2,\n",
       " 'project_id': 8802471}"
      ]
     },
     "execution_count": 372,
     "metadata": {},
     "output_type": "execute_result"
    }
   ],
   "source": [
    "image_pop_color(flip_rgb(x),8802471)"
   ]
  },
  {
   "cell_type": "code",
   "execution_count": 256,
   "metadata": {},
   "outputs": [],
   "source": [
    "color=pd.read_csv('rgb.txt')"
   ]
  },
  {
   "cell_type": "code",
   "execution_count": 325,
   "metadata": {},
   "outputs": [
    {
     "data": {
      "text/plain": [
       "colorname#hexcode    charcoal grey\\t#3c4142\\t\n",
       "Name: 86, dtype: object"
      ]
     },
     "execution_count": 325,
     "metadata": {},
     "output_type": "execute_result"
    }
   ],
   "source": [
    "color.iloc[86]"
   ]
  },
  {
   "cell_type": "code",
   "execution_count": 269,
   "metadata": {},
   "outputs": [
    {
     "data": {
      "text/plain": [
       "array([0.35, 0.35, 0.65])"
      ]
     },
     "execution_count": 269,
     "metadata": {},
     "output_type": "execute_result"
    }
   ],
   "source": [
    "color_rank_rgb[0]"
   ]
  },
  {
   "cell_type": "code",
   "execution_count": 373,
   "metadata": {},
   "outputs": [],
   "source": [
    "#image=cv2.imread(\"/Users/yajinghuang/Downloads/21395700.jpg\")\n",
    "hue=[[330,30],[30,90],[90,150],[150,210],[210,270],[270,330]]\n",
    "satuation=[[0,20],[20,40],[40,60],[60,80],[80,100]]\n",
    "lightness=[[0,20],[20,40],[40,60],[60,80],[80,100]]\n",
    "image=flip_rgb(x)\n",
    "hsl_cat=np.zeros((6,5,5))\n",
    "image=(prepare_image(image).astype('uint8'))\n",
    "red=0\n",
    "blue=0\n",
    "for i in range(image.shape[0]):\n",
    "    pix_hsl=rgb2hsl(image[i])\n",
    "    if image[i][0]>image[i][2]:\n",
    "        red+=1\n",
    "    else: blue+=1\n",
    "    #print(image[i],pix_hsl)\n",
    "    for i in range(1,6):\n",
    "        if pix_hsl[0]>=hue[i][0] and pix_hsl[0]<hue[i][1]:\n",
    "            pix_h=i\n",
    "    if pix_hsl[0]>=330 or pix_hsl[1]<30:\n",
    "            pix_h=0\n",
    "    for i in range(5):\n",
    "        if pix_hsl[1]>=satuation[i][0] and pix_hsl[1]<satuation[i][1]:\n",
    "            pix_s=i\n",
    "        if pix_hsl[2]>=lightness[i][0] and pix_hsl[2]<lightness[i][1]:\n",
    "            pix_l=i\n",
    "    hsl_cat[pix_h,pix_s,pix_l]+=1\n",
    "    #print([pix_h,pix_s,pix_l])\n",
    "color_cat_flat=hsl_cat.reshape(150)\n",
    "frequency={}\n",
    "for i in range(150):\n",
    "    frequency[i]=color_cat_flat[i]"
   ]
  },
  {
   "cell_type": "code",
   "execution_count": 374,
   "metadata": {},
   "outputs": [],
   "source": [
    "#frequency"
   ]
  },
  {
   "cell_type": "code",
   "execution_count": 342,
   "metadata": {},
   "outputs": [
    {
     "data": {
      "text/plain": [
       "3751"
      ]
     },
     "execution_count": 342,
     "metadata": {},
     "output_type": "execute_result"
    }
   ],
   "source": [
    "blue"
   ]
  },
  {
   "cell_type": "code",
   "execution_count": 276,
   "metadata": {},
   "outputs": [
    {
     "name": "stdout",
     "output_type": "stream",
     "text": [
      "0 1 2\n"
     ]
    }
   ],
   "source": [
    "o=7\n",
    "i1=o//25\n",
    "i2=(o%25)//5\n",
    "i3=(o%25)%5\n",
    "print(i1,i2,i3)"
   ]
  },
  {
   "cell_type": "code",
   "execution_count": 331,
   "metadata": {},
   "outputs": [
    {
     "data": {
      "text/plain": [
       "array([190.        ,   4.76190476,  24.70588235])"
      ]
     },
     "execution_count": 331,
     "metadata": {},
     "output_type": "execute_result"
    }
   ],
   "source": [
    "rgb2hsl((60,65,66))"
   ]
  },
  {
   "cell_type": "code",
   "execution_count": null,
   "metadata": {},
   "outputs": [],
   "source": []
  }
 ],
 "metadata": {
  "kernelspec": {
   "display_name": "Python 3",
   "language": "python",
   "name": "python3"
  },
  "language_info": {
   "codemirror_mode": {
    "name": "ipython",
    "version": 3
   },
   "file_extension": ".py",
   "mimetype": "text/x-python",
   "name": "python",
   "nbconvert_exporter": "python",
   "pygments_lexer": "ipython3",
   "version": "3.7.3"
  }
 },
 "nbformat": 4,
 "nbformat_minor": 2
}
