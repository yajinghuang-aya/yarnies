{
 "cells": [
  {
   "cell_type": "code",
   "execution_count": 2,
   "metadata": {},
   "outputs": [],
   "source": [
    "import cv2\n",
    "import wget\n",
    "from color_util import *\n",
    "from color_cluster import* \n",
    "from skimage.color import rgb2lab, deltaE_cie76,lab2rgb\n",
    "from skimage import io\n",
    "import numpy as np\n",
    "import pandas as pd\n",
    "import time"
   ]
  },
  {
   "cell_type": "code",
   "execution_count": 3,
   "metadata": {},
   "outputs": [],
   "source": [
    "hsl_cat=np.zeros((6,5,5))"
   ]
  },
  {
   "cell_type": "code",
   "execution_count": 6,
   "metadata": {},
   "outputs": [],
   "source": [
    "hue=[[330,30],[30,90],[90,150],[150,210],[210,270],[270,330]]\n",
    "satuation=[[0,20],[20,40],[40,60],[60,80],[80,100]]\n",
    "lightness=[[0,20],[20,40],[40,60],[60,80],[80,100]]"
   ]
  },
  {
   "cell_type": "code",
   "execution_count": 47,
   "metadata": {},
   "outputs": [],
   "source": [
    "image=cv2.imread(\"12682348.jpg\")"
   ]
  },
  {
   "cell_type": "code",
   "execution_count": 25,
   "metadata": {},
   "outputs": [],
   "source": [
    "from colour import rgb2hsl\n",
    "from colour import Color"
   ]
  },
  {
   "cell_type": "code",
   "execution_count": 44,
   "metadata": {},
   "outputs": [],
   "source": [
    "def rgb2hsl(pix):\n",
    "    pix=np.asarray(pix)/255.\n",
    "    pixcolor=Color(rgb=pix)\n",
    "    hsl=pixcolor.hsl\n",
    "    color_hsl=np.zeros(3)\n",
    "    color_hsl[0]=hsl[0]*360\n",
    "    color_hsl[1]=hsl[1]*100\n",
    "    color_hsl[2]=hsl[2]*100\n",
    "    return color_hsl"
   ]
  },
  {
   "cell_type": "code",
   "execution_count": 48,
   "metadata": {},
   "outputs": [],
   "source": [
    "# after prepare image\n",
    "image=prepare_image(image).astype('uint8')\n",
    "\n",
    "hsl_cat=np.zeros((6,5,5))\n",
    "\n",
    "for i in range(image.shape[0]):\n",
    "    pix_hsl=rgb2hsl(image[i])\n",
    "    for i in range(1,6):\n",
    "        if pix_hsl[0]>=hue[i][0] and pix_hsl[0]<hue[i][1]:\n",
    "            pix_h=i\n",
    "    if pix_hsl[0]>=330 or pix_hsl[1]<30:\n",
    "            pix_h=0\n",
    "    for i in range(5):\n",
    "        if pix_hsl[1]>=satuation[i][0] and pix_hsl[1]<satuation[i][1]:\n",
    "            pix_s=i\n",
    "        if pix_hsl[2]>=lightness[i][0] and pix_hsl[2]<lightness[i][1]:\n",
    "            pix_l=i\n",
    "    hsl_cat[pix_h,pix_s,pix_l]+=1\n",
    "\n"
   ]
  },
  {
   "cell_type": "code",
   "execution_count": 52,
   "metadata": {},
   "outputs": [
    {
     "data": {
      "text/plain": [
       "array([[[7.000e+00, 2.550e+02, 9.060e+02, 4.030e+02, 0.000e+00],\n",
       "        [1.400e+01, 6.270e+02, 1.042e+03, 0.000e+00, 0.000e+00],\n",
       "        [0.000e+00, 0.000e+00, 0.000e+00, 0.000e+00, 0.000e+00],\n",
       "        [0.000e+00, 0.000e+00, 0.000e+00, 0.000e+00, 0.000e+00],\n",
       "        [0.000e+00, 0.000e+00, 0.000e+00, 0.000e+00, 0.000e+00]],\n",
       "\n",
       "       [[0.000e+00, 0.000e+00, 0.000e+00, 0.000e+00, 0.000e+00],\n",
       "        [0.000e+00, 0.000e+00, 0.000e+00, 0.000e+00, 0.000e+00],\n",
       "        [0.000e+00, 0.000e+00, 0.000e+00, 0.000e+00, 0.000e+00],\n",
       "        [0.000e+00, 0.000e+00, 0.000e+00, 0.000e+00, 0.000e+00],\n",
       "        [0.000e+00, 0.000e+00, 0.000e+00, 0.000e+00, 0.000e+00]],\n",
       "\n",
       "       [[0.000e+00, 0.000e+00, 0.000e+00, 0.000e+00, 0.000e+00],\n",
       "        [0.000e+00, 0.000e+00, 0.000e+00, 0.000e+00, 0.000e+00],\n",
       "        [0.000e+00, 0.000e+00, 0.000e+00, 0.000e+00, 0.000e+00],\n",
       "        [0.000e+00, 0.000e+00, 0.000e+00, 0.000e+00, 0.000e+00],\n",
       "        [0.000e+00, 0.000e+00, 0.000e+00, 0.000e+00, 0.000e+00]],\n",
       "\n",
       "       [[0.000e+00, 0.000e+00, 0.000e+00, 0.000e+00, 0.000e+00],\n",
       "        [0.000e+00, 0.000e+00, 0.000e+00, 0.000e+00, 0.000e+00],\n",
       "        [0.000e+00, 0.000e+00, 0.000e+00, 0.000e+00, 0.000e+00],\n",
       "        [0.000e+00, 0.000e+00, 0.000e+00, 0.000e+00, 0.000e+00],\n",
       "        [0.000e+00, 0.000e+00, 0.000e+00, 0.000e+00, 0.000e+00]],\n",
       "\n",
       "       [[0.000e+00, 0.000e+00, 0.000e+00, 0.000e+00, 0.000e+00],\n",
       "        [0.000e+00, 0.000e+00, 2.300e+01, 0.000e+00, 0.000e+00],\n",
       "        [0.000e+00, 9.000e+00, 3.000e+00, 0.000e+00, 0.000e+00],\n",
       "        [1.000e+00, 3.000e+00, 0.000e+00, 0.000e+00, 0.000e+00],\n",
       "        [0.000e+00, 0.000e+00, 0.000e+00, 0.000e+00, 0.000e+00]],\n",
       "\n",
       "       [[0.000e+00, 0.000e+00, 0.000e+00, 0.000e+00, 0.000e+00],\n",
       "        [1.090e+02, 4.109e+03, 3.841e+03, 1.330e+02, 0.000e+00],\n",
       "        [9.060e+02, 2.225e+03, 3.000e+00, 2.100e+02, 0.000e+00],\n",
       "        [1.970e+02, 1.600e+01, 0.000e+00, 0.000e+00, 0.000e+00],\n",
       "        [7.000e+00, 0.000e+00, 0.000e+00, 0.000e+00, 0.000e+00]]])"
      ]
     },
     "execution_count": 52,
     "metadata": {},
     "output_type": "execute_result"
    }
   ],
   "source": [
    "hsl_cat"
   ]
  },
  {
   "cell_type": "code",
   "execution_count": 54,
   "metadata": {},
   "outputs": [
    {
     "data": {
      "text/plain": [
       "(array([5]), array([1]), array([2]))"
      ]
     },
     "execution_count": 54,
     "metadata": {},
     "output_type": "execute_result"
    }
   ],
   "source": [
    "np.where(hsl_cat==3.841e+03)"
   ]
  },
  {
   "cell_type": "code",
   "execution_count": 62,
   "metadata": {},
   "outputs": [],
   "source": [
    "order=np.argsort(hsl_cat.reshape(150))\n",
    "index_rank=[]\n",
    "for o in order:\n",
    "    i1=o//25\n",
    "    i2=(o%25)//5\n",
    "    i3=(o%25)%5\n",
    "    index_rank.append([i1,i2,i3])"
   ]
  },
  {
   "cell_type": "code",
   "execution_count": 65,
   "metadata": {},
   "outputs": [
    {
     "data": {
      "text/plain": [
       "4109.0"
      ]
     },
     "execution_count": 65,
     "metadata": {},
     "output_type": "execute_result"
    }
   ],
   "source": [
    "hsl_cat[5,1,1]"
   ]
  },
  {
   "cell_type": "code",
   "execution_count": 63,
   "metadata": {},
   "outputs": [
    {
     "data": {
      "text/plain": [
       "[[2, 4, 4],\n",
       " [3, 4, 2],\n",
       " [3, 4, 1],\n",
       " [3, 4, 0],\n",
       " [3, 3, 4],\n",
       " [3, 3, 3],\n",
       " [3, 3, 2],\n",
       " [3, 3, 1],\n",
       " [3, 3, 0],\n",
       " [3, 2, 4],\n",
       " [3, 2, 3],\n",
       " [3, 2, 2],\n",
       " [3, 2, 1],\n",
       " [3, 2, 0],\n",
       " [3, 1, 4],\n",
       " [3, 1, 3],\n",
       " [3, 1, 2],\n",
       " [3, 1, 1],\n",
       " [3, 1, 0],\n",
       " [3, 0, 4],\n",
       " [3, 0, 3],\n",
       " [3, 0, 2],\n",
       " [3, 0, 1],\n",
       " [3, 0, 0],\n",
       " [5, 4, 3],\n",
       " [2, 4, 3],\n",
       " [2, 4, 2],\n",
       " [2, 4, 1],\n",
       " [2, 4, 0],\n",
       " [2, 3, 4],\n",
       " [3, 4, 3],\n",
       " [3, 4, 4],\n",
       " [4, 0, 0],\n",
       " [4, 0, 1],\n",
       " [5, 4, 2],\n",
       " [5, 4, 1],\n",
       " [5, 3, 4],\n",
       " [5, 3, 3],\n",
       " [5, 3, 2],\n",
       " [5, 2, 4],\n",
       " [5, 1, 4],\n",
       " [5, 0, 4],\n",
       " [5, 0, 3],\n",
       " [5, 0, 2],\n",
       " [5, 0, 1],\n",
       " [5, 0, 0],\n",
       " [4, 4, 4],\n",
       " [4, 4, 3],\n",
       " [2, 3, 3],\n",
       " [4, 4, 2],\n",
       " [4, 4, 0],\n",
       " [4, 3, 4],\n",
       " [4, 3, 3],\n",
       " [4, 3, 2],\n",
       " [4, 2, 4],\n",
       " [4, 2, 3],\n",
       " [4, 2, 0],\n",
       " [4, 1, 4],\n",
       " [4, 1, 3],\n",
       " [4, 1, 1],\n",
       " [4, 1, 0],\n",
       " [4, 0, 4],\n",
       " [4, 0, 3],\n",
       " [4, 0, 2],\n",
       " [4, 4, 1],\n",
       " [2, 3, 2],\n",
       " [5, 4, 4],\n",
       " [2, 3, 0],\n",
       " [1, 1, 3],\n",
       " [1, 1, 2],\n",
       " [1, 1, 1],\n",
       " [1, 1, 0],\n",
       " [1, 0, 4],\n",
       " [1, 0, 3],\n",
       " [1, 0, 2],\n",
       " [1, 0, 1],\n",
       " [2, 3, 1],\n",
       " [0, 4, 4],\n",
       " [0, 4, 3],\n",
       " [0, 4, 2],\n",
       " [0, 4, 1],\n",
       " [0, 4, 0],\n",
       " [0, 3, 4],\n",
       " [0, 3, 3],\n",
       " [0, 3, 2],\n",
       " [0, 3, 1],\n",
       " [0, 3, 0],\n",
       " [0, 2, 4],\n",
       " [0, 2, 3],\n",
       " [0, 2, 2],\n",
       " [0, 2, 1],\n",
       " [0, 2, 0],\n",
       " [0, 1, 4],\n",
       " [0, 1, 3],\n",
       " [0, 0, 4],\n",
       " [1, 1, 4],\n",
       " [1, 2, 0],\n",
       " [1, 0, 0],\n",
       " [1, 2, 2],\n",
       " [2, 2, 4],\n",
       " [2, 2, 3],\n",
       " [2, 2, 2],\n",
       " [2, 2, 1],\n",
       " [2, 2, 0],\n",
       " [2, 1, 4],\n",
       " [2, 1, 3],\n",
       " [1, 2, 1],\n",
       " [2, 1, 1],\n",
       " [2, 1, 0],\n",
       " [2, 0, 4],\n",
       " [2, 0, 3],\n",
       " [2, 0, 2],\n",
       " [2, 0, 1],\n",
       " [2, 0, 0],\n",
       " [2, 1, 2],\n",
       " [1, 4, 0],\n",
       " [1, 2, 4],\n",
       " [1, 3, 0],\n",
       " [1, 3, 1],\n",
       " [1, 3, 2],\n",
       " [1, 3, 3],\n",
       " [1, 3, 4],\n",
       " [1, 4, 4],\n",
       " [1, 4, 1],\n",
       " [1, 4, 2],\n",
       " [1, 4, 3],\n",
       " [1, 2, 3],\n",
       " [4, 3, 0],\n",
       " [5, 2, 2],\n",
       " [4, 2, 2],\n",
       " [4, 3, 1],\n",
       " [5, 4, 0],\n",
       " [0, 0, 0],\n",
       " [4, 2, 1],\n",
       " [0, 1, 0],\n",
       " [5, 3, 1],\n",
       " [4, 1, 2],\n",
       " [5, 1, 0],\n",
       " [5, 1, 3],\n",
       " [5, 3, 0],\n",
       " [5, 2, 3],\n",
       " [0, 0, 1],\n",
       " [0, 0, 3],\n",
       " [0, 1, 1],\n",
       " [5, 2, 0],\n",
       " [0, 0, 2],\n",
       " [0, 1, 2],\n",
       " [5, 2, 1],\n",
       " [5, 1, 2],\n",
       " [5, 1, 1]]"
      ]
     },
     "execution_count": 63,
     "metadata": {},
     "output_type": "execute_result"
    }
   ],
   "source": [
    "index_rank\n"
   ]
  },
  {
   "cell_type": "code",
   "execution_count": null,
   "metadata": {},
   "outputs": [],
   "source": []
  }
 ],
 "metadata": {
  "kernelspec": {
   "display_name": "Python 3",
   "language": "python",
   "name": "python3"
  },
  "language_info": {
   "codemirror_mode": {
    "name": "ipython",
    "version": 3
   },
   "file_extension": ".py",
   "mimetype": "text/x-python",
   "name": "python",
   "nbconvert_exporter": "python",
   "pygments_lexer": "ipython3",
   "version": "3.7.3"
  }
 },
 "nbformat": 4,
 "nbformat_minor": 2
}
